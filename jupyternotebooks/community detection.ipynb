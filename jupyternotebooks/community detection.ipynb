{
 "cells": [
  {
   "cell_type": "code",
   "execution_count": null,
   "metadata": {},
   "outputs": [],
   "source": [
    "import graphAlgorithms as ga"
   ]
  },
  {
   "cell_type": "markdown",
   "metadata": {},
   "source": [
    "In this example file, we show how to use different community detection algorithms.  "
   ]
  },
  {
   "cell_type": "markdown",
   "metadata": {},
   "source": [
    "# Load & Preprocess Network"
   ]
  },
  {
   "cell_type": "markdown",
   "metadata": {},
   "source": [
    "First step of the pipeline consists in loading the chosen data set.\n",
    "You can store your networks in any common format, however the xx package requires that the networks are provided as NetworkX Graph objects (refer to its documentation for detailed instructions). Moreover, the networks should be weighted: if you have an unweighted network, then assign all edges the same edge weight. The package assumes \"weight\" to be the default edge weight label, but this can be set when needed.\n",
    "\n",
    "An example on how to pre-process a network, stored as an edgelist, is provided below. Different loading and storing examples are provided in the \"import and export of networks\" jupyter notebook. "
   ]
  },
  {
   "cell_type": "code",
   "execution_count": null,
   "metadata": {},
   "outputs": [],
   "source": [
    "#location where the raw data files are stored, it is set to run from the installation folder\n",
    "#- if applicable please change or CHANGE to the location of your networks\n",
    "\n",
    "graph_location = \"../networks/edgelists/\"\n",
    "\n",
    "#location where output should be saved\n",
    "#Please set location\n",
    "location = \"\""
   ]
  },
  {
   "cell_type": "code",
   "execution_count": null,
   "metadata": {},
   "outputs": [],
   "source": [
    "import glob\n",
    "import pandas as pd\n",
    "import networkx as nx\n",
    "import numpy as np\n",
    "from collections import Counter\n",
    "import matplotlib.pyplot as plt"
   ]
  },
  {
   "cell_type": "code",
   "execution_count": null,
   "metadata": {},
   "outputs": [],
   "source": [
    "\n",
    "labels = []\n",
    "networks_graphs = []\n",
    "cnt = 0\n",
    "print(\"load networks\")\n",
    "#gets all files located in the specified folder that end on .edgelist\n",
    "#CHANGE the ending if your files end differently\n",
    "for path in glob.glob(graph_location +\"*.edgelist\"):\n",
    "    if cnt == 5:\n",
    "        #you can specify that only part of the file name should be used as network name for later identification\n",
    "        name =  path.split(\"/\")[-1].replace(\".rds.edgelist\", \"\")\n",
    "\n",
    "\n",
    "        #read the edgelist file as a dataframe\n",
    "        fh = pd.read_csv(path, sep=\"\\t\")\n",
    "        #convert it into a NetworkX graph G and specify the column names of the node pairs\n",
    "        G=nx.from_pandas_edgelist(fh, \"V1\", \"V2\")\n",
    "\n",
    "        #if you have an unweighted network assign all edges the same edge weight - here a value of 1 is assigned\n",
    "        for u, v, d in G.edges(data=True):\n",
    "            d['weight'] = 1\n",
    "\n",
    "\n",
    "        #save the graph objects to a list (only suitable if small networks are processed)\n",
    "        #this is the main objects used for the examples below, which contains all networks\n",
    "        networks_graphs.append(G)\n",
    "        labels.append(name)\n",
    "\n",
    "\n",
    "\n",
    "\n",
    "        print(\"loaded\", name)\n",
    "    cnt = cnt + 1"
   ]
  },
  {
   "cell_type": "markdown",
   "metadata": {},
   "source": [
    "Get the union of all nodes "
   ]
  },
  {
   "cell_type": "code",
   "execution_count": null,
   "metadata": {},
   "outputs": [],
   "source": [
    "nodes = []\n",
    "for net in networks_graphs:\n",
    "    for node in net.nodes():\n",
    "        if node not in nodes:\n",
    "            nodes.append(node)"
   ]
  },
  {
   "cell_type": "markdown",
   "metadata": {},
   "source": [
    "The community detection algorithms require you to provide NetworkX graph objects directly"
   ]
  },
  {
   "cell_type": "markdown",
   "metadata": {},
   "source": [
    "## Some unweighted community detection algorithms\n",
    "\n",
    "All communiy detection algorithms return a dictionary data format, where keys are node IDs and values are list of communities that node belongs to. In case of overlapping communities this may be more than one community. Three different algorithms are reported hereafter. "
   ]
  },
  {
   "cell_type": "code",
   "execution_count": null,
   "metadata": {},
   "outputs": [],
   "source": [
    "asy = ga.communities.async_fluid(networks_graphs[0], k=10, return_object=False)"
   ]
  },
  {
   "cell_type": "code",
   "execution_count": null,
   "metadata": {},
   "outputs": [],
   "source": [
    "label = ga.communities.label_propagation(networks_graphs[0], return_object=False)"
   ]
  },
  {
   "cell_type": "code",
   "execution_count": null,
   "metadata": {},
   "outputs": [],
   "source": [
    "walktrap = ga.communities.walktrap(networks_graphs[0], return_object=False)"
   ]
  },
  {
   "cell_type": "markdown",
   "metadata": {},
   "source": [
    "## Some weighted community detection algorithms"
   ]
  },
  {
   "cell_type": "markdown",
   "metadata": {},
   "source": [
    "Similarly, three differen community detection algorithms are shown for weighted networks. "
   ]
  },
  {
   "cell_type": "code",
   "execution_count": null,
   "metadata": {
    "scrolled": true
   },
   "outputs": [],
   "source": [
    "mod =  ga.communities.greedy_modularity(networks_graphs[0], weights=\"weight\", return_object=False)"
   ]
  },
  {
   "cell_type": "code",
   "execution_count": null,
   "metadata": {},
   "outputs": [],
   "source": [
    "leiden = ga.communities.leiden(networks_graphs[0], weights=\"weight\", return_object=False)"
   ]
  },
  {
   "cell_type": "code",
   "execution_count": null,
   "metadata": {
    "scrolled": true
   },
   "outputs": [],
   "source": [
    "louvain = ga.communities.louvain(networks_graphs[0], weights=\"weight\", return_object=False)"
   ]
  },
  {
   "cell_type": "markdown",
   "metadata": {},
   "source": [
    "## Ensembl community detection\n",
    "\n",
    "The ensembl algorithm is based on an adapted implementation developed by Tandon et al. (https://arxiv.org/pdf/1902.04014.pdf)\n",
    "Here, we want to create an ensembl out of labelpropagation, leiden and the louvain algorithm.\n",
    "\n",
    "Reference: Tandon Aditya, Albeshri Aiiad, Thayananthan Vijey, Alhalabi Wadee, Fortunato Santo; \"Fast consensus clustering in complex networks\"; Phys. Rev. E, 99 (2019), Article 042301"
   ]
  },
  {
   "cell_type": "code",
   "execution_count": null,
   "metadata": {},
   "outputs": [],
   "source": [
    "community_list=[label, leiden, louvain]"
   ]
  },
  {
   "cell_type": "markdown",
   "metadata": {},
   "source": [
    "Only algorithms that are not requireing connected graphs can be provided as selected algorithms"
   ]
  },
  {
   "cell_type": "code",
   "execution_count": null,
   "metadata": {},
   "outputs": [],
   "source": [
    "algorithms = [ga.communities.label_propagation,ga.communities.leiden, ga.communities.louvain ]\n",
    "parameters = [{\"return_object\": False}, {\"return_object\": False, \"weights\":\"weight\"},{\"weights\":\"weight\",\"return_object\": False}]"
   ]
  },
  {
   "cell_type": "code",
   "execution_count": null,
   "metadata": {
    "scrolled": true
   },
   "outputs": [],
   "source": [
    "consensuscommunities, cons1, consgraph  = ga.communities.fast_consensus(networks_graphs[0], communities = community_list, algorithms=algorithms, parameters=parameters, thresh=0.5, max_iter=10)"
   ]
  },
  {
   "cell_type": "markdown",
   "metadata": {},
   "source": [
    "## Overlapping Communities\n",
    "\n",
    "Example of an overlapping community detection algorithm. This means that a node can be assigned to more than one community."
   ]
  },
  {
   "cell_type": "code",
   "execution_count": null,
   "metadata": {},
   "outputs": [],
   "source": [
    "angel = ga.communities.angel(networks_graphs[0], return_object=False)"
   ]
  },
  {
   "cell_type": "markdown",
   "metadata": {},
   "source": [
    "## Some community evaluation metrics\n",
    "\n",
    "Once the communities have been detected, we can study them through some evaluation metrics and evaluate which algorithm(s) give the \"best\" paritioning (given the evaluation metrics & your requirements) of your networks."
   ]
  },
  {
   "cell_type": "code",
   "execution_count": null,
   "metadata": {},
   "outputs": [],
   "source": [
    "community_list=[asy, label,  walktrap,  mod, leiden, louvain, consensuscommunities, angel]\n",
    "algo_labels=[\"async_fluids\",\"labelpropagation\",  \"walktrap\",  \"modularity\", \"leiden\", \"louvain\", \"consensuscommunities\", \"angel\"]"
   ]
  },
  {
   "cell_type": "markdown",
   "metadata": {},
   "source": [
    "The firt simple consideration refers to the number of communities detected by each algorithm."
   ]
  },
  {
   "cell_type": "code",
   "execution_count": null,
   "metadata": {},
   "outputs": [],
   "source": [
    "for i in range(len(community_list)):\n",
    "    print(\"algo \", algo_labels[i], \"detects \", ga.communities.get_number_of_communities(community_list[i]), \"communities\")"
   ]
  },
  {
   "cell_type": "markdown",
   "metadata": {},
   "source": [
    "After, we can derive the community size distribution as follows. "
   ]
  },
  {
   "cell_type": "code",
   "execution_count": null,
   "metadata": {},
   "outputs": [],
   "source": [
    "for i in range(len(community_list)):\n",
    "    print(\"algorithm \", algo_labels[i], \"has a community size distribution of:\")\n",
    "    print(ga.communities.get_number_of_nodes_community(community_list[i], in_detail=False))"
   ]
  },
  {
   "cell_type": "markdown",
   "metadata": {},
   "source": [
    "The average internal degree for the individual communities are returned in the sc object."
   ]
  },
  {
   "cell_type": "code",
   "execution_count": null,
   "metadata": {},
   "outputs": [],
   "source": [
    "for i in range(len(community_list)):\n",
    "    print(\"algo \", algo_labels[i], \"has a community internal degree distribution of:\")\n",
    "    sc, dist = ga.communities.average_internal_degree(community_list[i], networks_graphs[0])\n",
    "    print(dist)"
   ]
  },
  {
   "cell_type": "markdown",
   "metadata": {},
   "source": [
    "The internal edge density for the individual communities are returned in the sc object."
   ]
  },
  {
   "cell_type": "code",
   "execution_count": null,
   "metadata": {},
   "outputs": [],
   "source": [
    "for i in range(len(community_list)):\n",
    "    print(\"algo \", algo_labels[i], \"has a community internal edge density distribution of:\")\n",
    "    sc, dist = ga.communities.internal_edge_density(community_list[i], networks_graphs[0])\n",
    "    print(dist)"
   ]
  },
  {
   "cell_type": "markdown",
   "metadata": {},
   "source": [
    "The partitions modularity for the individual communities are returned in the sc object."
   ]
  },
  {
   "cell_type": "code",
   "execution_count": null,
   "metadata": {},
   "outputs": [],
   "source": [
    "for i in range(len(community_list)):\n",
    "    print(\"algorithm \", algo_labels[i], \"has a modularity of \", ga.communities.community_modularity(community_list[i], networks_graphs[0]))"
   ]
  },
  {
   "cell_type": "markdown",
   "metadata": {},
   "source": [
    "The fraction of weak members for the individual communities are returned in the sc object."
   ]
  },
  {
   "cell_type": "code",
   "execution_count": null,
   "metadata": {},
   "outputs": [],
   "source": [
    "for i in range(len(community_list)):\n",
    "    print(\"algo \", algo_labels[i], \"has a community fraction of weak members distribution of:\")\n",
    "    sc, dist = ga.communities.fraction_of_weak_members(community_list[i], networks_graphs[0])\n",
    "    print(dist)"
   ]
  },
  {
   "cell_type": "markdown",
   "metadata": {},
   "source": [
    "The cut ratio distibution for the individual communities are returned in the sc object."
   ]
  },
  {
   "cell_type": "code",
   "execution_count": null,
   "metadata": {},
   "outputs": [],
   "source": [
    "for i in range(len(community_list)):\n",
    "    print(\"algo \", algo_labels[i], \"has a community cut ratio distribution distribution of:\")\n",
    "    sc, dist = ga.communities.cut_ratio(community_list[i], networks_graphs[0])\n",
    "    print(dist)"
   ]
  },
  {
   "cell_type": "markdown",
   "metadata": {},
   "source": [
    "The community density with respect to the all graph are returned in the sc object."
   ]
  },
  {
   "cell_type": "code",
   "execution_count": null,
   "metadata": {},
   "outputs": [],
   "source": [
    "for i in range(len(community_list)):\n",
    "    print(\"algo \", algo_labels[i], \" has a community density w.r.t. the graph density distribution of:\")\n",
    "    sc, dist = ga.communities.community_density_to_graph(community_list[i], networks_graphs[0])\n",
    "    print(dist)"
   ]
  },
  {
   "cell_type": "markdown",
   "metadata": {},
   "source": [
    "The hub dominance for the individual communities with respect to the all graph are returned in the sc object."
   ]
  },
  {
   "cell_type": "code",
   "execution_count": null,
   "metadata": {},
   "outputs": [],
   "source": [
    "for i in range(len(community_list)):\n",
    "    print(\"algo \", algo_labels[i], \" has a community hub dominance distribution of:\")\n",
    "    sc, dist = ga.communities.hub_dominace(community_list[i], networks_graphs[0])\n",
    "    print(dist)"
   ]
  },
  {
   "cell_type": "markdown",
   "metadata": {},
   "source": [
    "More evaluation metrics are implemented, which you find more information about in the documentation but are not shown in this example file.\n",
    "\n",
    "You can for example select the community detection algorithm that performs on average the best on a multitude of selected evaluation metrics or select metrics that are focused on the commmunity types that are needed for your experiments."
   ]
  },
  {
   "cell_type": "code",
   "execution_count": null,
   "metadata": {},
   "outputs": [],
   "source": []
  },
  {
   "cell_type": "code",
   "execution_count": null,
   "metadata": {},
   "outputs": [],
   "source": []
  }
 ],
 "metadata": {
  "kernelspec": {
   "display_name": "Python 3",
   "language": "python",
   "name": "python3"
  },
  "language_info": {
   "codemirror_mode": {
    "name": "ipython",
    "version": 3
   },
   "file_extension": ".py",
   "mimetype": "text/x-python",
   "name": "python",
   "nbconvert_exporter": "python",
   "pygments_lexer": "ipython3",
   "version": "3.6.9"
  }
 },
 "nbformat": 4,
 "nbformat_minor": 2
}
