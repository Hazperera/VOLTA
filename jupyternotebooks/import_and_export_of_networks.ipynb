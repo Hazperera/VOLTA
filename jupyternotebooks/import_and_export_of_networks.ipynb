{
 "cells": [
  {
   "cell_type": "markdown",
   "metadata": {},
   "source": [
    "# Import & Export of Network Formats to be used by GA"
   ]
  },
  {
   "cell_type": "markdown",
   "metadata": {},
   "source": [
    "GA requires as initial input weighted, undirected NetworkX graph objects. If you have an unweighted graph all edges should be assigned the same weight. By default the edge weight attribute is assumed to be \"weight\", but this can be set when needed.\n",
    "\n",
    "Below functions are shown that can format common graph file formats into the format used by GA and also shows how to assign edge weights to an unweighted graph.\n",
    "\n",
    "Additional it shows how the graph object can be converted back to a convertable format, which can be used to transfer it to other tools or languages (e.g. R)"
   ]
  },
  {
   "cell_type": "code",
   "execution_count": 2,
   "metadata": {},
   "outputs": [],
   "source": [
    "import networkx as nx"
   ]
  },
  {
   "cell_type": "markdown",
   "metadata": {},
   "source": [
    "## Import"
   ]
  },
  {
   "cell_type": "markdown",
   "metadata": {},
   "source": [
    "### Read graph form an unweighted edge list with column headings\n",
    "\n",
    "The file should contain a head column, in the example this is V1 & V2 - replace this values in the code snipped with your values. Each following row should contain an edge (node1 node2). The node IDs used in the file will be assigned to the nodes in the created graph object. The example file uses tab (\\t) to separate nodes, this can be any other value though - for other values replace \\t in the code snipped with the separator your file is using."
   ]
  },
  {
   "cell_type": "markdown",
   "metadata": {},
   "source": [
    "The same function is used in the example usage files, where it also shows how to append the created objects to a list, which can then be used for the whole analysis pipeline"
   ]
  },
  {
   "attachments": {
    "image.png": {
     "image/png": "[encoded data removed]"
    }
   },
   "cell_type": "markdown",
   "metadata": {},
   "source": [
    "![image.png](attachment:image.png)"
   ]
  },
  {
   "cell_type": "code",
   "execution_count": null,
   "metadata": {},
   "outputs": [],
   "source": [
    "#REPLACE this with the acutal file location\n",
    "path =\"location to your edgelist file\"\n",
    "    \n",
    "#read the edgelist file as a dataframe\n",
    "#ADUST the separator if needed\n",
    "fh = pd.read_csv(path, sep=\"\\t\")\n",
    "\n",
    "#convert it into a NetworkX graph G and specify the column names of the node pairs\n",
    "#REPALCE the column names if needed\n",
    "G=nx.from_pandas_edgelist(fh, \"V1\", \"V2\")\n",
    "\n",
    "#if you have an unweighted network assign all edges the same edge weight - here a value of 1 is assigned\n",
    "#REPLACE weight with any name you would like your edge weights to be called\n",
    "for u, v, d in G.edges(data=True):\n",
    "    d['weight'] = 1\n"
   ]
  },
  {
   "cell_type": "markdown",
   "metadata": {},
   "source": [
    "### Read graph form a weighted edge list with column headings\n",
    "\n",
    "This follows the same format as the previous, with the exception that an additional column needs to be added to the file containing the edge weights (here called W). This column name needs to be set in the last step as edge_attribute parameter"
   ]
  },
  {
   "cell_type": "code",
   "execution_count": null,
   "metadata": {},
   "outputs": [],
   "source": [
    "#REPLACE this with the acutal file location\n",
    "path =\"location to your edgelist file\"\n",
    "    \n",
    "#read the edgelist file as a dataframe\n",
    "#ADUST the separator if needed\n",
    "fh = pd.read_csv(path, sep=\"\\t\")\n",
    "\n",
    "#convert it into a NetworkX graph G and specify the column names of the node pairs\n",
    "#REPALCE the column names if needed\n",
    "G=nx.from_pandas_edgelist(fh, \"V1\", \"V2\", edge_attribute=\"W\")"
   ]
  },
  {
   "cell_type": "markdown",
   "metadata": {},
   "source": [
    "### Read graph form an unweighted edge list without column headings\n",
    "\n",
    "The file needs to be in the same format as previous with the exception of no header row provided and no weight column."
   ]
  },
  {
   "cell_type": "code",
   "execution_count": null,
   "metadata": {},
   "outputs": [],
   "source": [
    "#REPLACE this with the acutal file location\n",
    "path =\"location to your edgelist file\"\n",
    "    \n",
    "#REPLACE delimiter with the delimiter used in your file\n",
    "G = nx.read_edgelist(path, delimiter=\"\\t\")"
   ]
  },
  {
   "cell_type": "markdown",
   "metadata": {},
   "source": [
    "### Read graph form an weighted edge list without column headings\n",
    "\n",
    "The file needs to be in the same format as previous with the exception of no header row provided but an additional third (numerical) weight column needs to be provided"
   ]
  },
  {
   "cell_type": "code",
   "execution_count": null,
   "metadata": {},
   "outputs": [],
   "source": [
    "#REPLACE this with the acutal file location\n",
    "path =\"location to your edgelist file\"\n",
    "    \n",
    "#REPLACE delimiter with the delimiter used in your file\n",
    "G = nx.read_weighted_edgelist(path, delimiter=\"\\t\")"
   ]
  },
  {
   "cell_type": "markdown",
   "metadata": {},
   "source": [
    "### Read graph from adjacency matrix without row and column names\n",
    "\n",
    "\n",
    "The values in the matrix will be set as edge weights under the edge attribute name weight. If other weights want to be used you can use \n",
    "for u, v, d in G.edges(data=True):\n",
    "    d['weight'] = 1\n",
    "    \n",
    "from the previous examples, to set all weights to 1/ add a weight attribute (with another name).\n",
    "\n",
    "Since no column / row names are provided the nodes will be named numerically after their appearance. If specific node names want to be set you can use the relabel_nodes functions as shown in the Read graph from adjacency matrix with row and column names example"
   ]
  },
  {
   "attachments": {
    "image.png": {
     "image/png": "[encoded data removed]"
    }
   },
   "cell_type": "markdown",
   "metadata": {},
   "source": [
    "![image.png](attachment:image.png)"
   ]
  },
  {
   "cell_type": "code",
   "execution_count": null,
   "metadata": {},
   "outputs": [],
   "source": [
    "#REPLACE this with the acutal file location\n",
    "path =\"location to your edgelist file\"\n",
    "\n",
    "\n",
    "\n",
    "frame = pd.read_csv(path, sep=\"\\t\", header=None)\n",
    "\n",
    "    \n",
    "#convert to adj matrix\n",
    "mat = frame.to_numpy()\n",
    "#load as graph\n",
    "G = nx.from_numpy_matrix(mat)\n",
    "\n",
    "\n"
   ]
  },
  {
   "cell_type": "markdown",
   "metadata": {},
   "source": [
    "### Read graph from adjacency matrix with row and column names\n",
    "\n",
    "The values in the matrix will be set as edge weights under the edge attribute name weight. If other weights want to be used you can use \n",
    "for u, v, d in G.edges(data=True):\n",
    "    d['weight'] = 1\n",
    "    \n",
    "from the previous examples, to set all weights to 1/ add a weight attribute"
   ]
  },
  {
   "attachments": {
    "image.png": {
     "image/png": "[encoded data removed]"
    }
   },
   "cell_type": "markdown",
   "metadata": {},
   "source": [
    "![image.png](attachment:image.png)"
   ]
  },
  {
   "cell_type": "code",
   "execution_count": null,
   "metadata": {},
   "outputs": [],
   "source": [
    "#REPLACE this with the acutal file location\n",
    "path =\"location to your edgelist file\"\n",
    "\n",
    "\n",
    "\n",
    "frame = pd.read_csv(path, sep=\"\\t\", index_col=0)\n",
    "#get node names from column (or index) names\n",
    "node_names = list(frame.columns)\n",
    "\n",
    "#convert into a dict to replace the later in the read graph object\n",
    "nodemapping = {}\n",
    "for i in range(len(nodes)):\n",
    "    nodemapping[i] = node_names[i]\n",
    "    \n",
    "#convert to adj matrix\n",
    "mat = frame.to_numpy()\n",
    "#load as graph\n",
    "G = nx.from_numpy_matrix(mat)\n",
    "#relabel nodes\n",
    "G = nx.relabel_nodes(G, nodemapping, copy=False)\n",
    "\n"
   ]
  },
  {
   "cell_type": "code",
   "execution_count": null,
   "metadata": {},
   "outputs": [],
   "source": []
  },
  {
   "cell_type": "markdown",
   "metadata": {},
   "source": [
    "## Export\n",
    "\n",
    "Write graph to file"
   ]
  },
  {
   "cell_type": "markdown",
   "metadata": {},
   "source": [
    "### Write edgelist (weighted or unweighted) with column headings from a NetworkX graph object\n",
    "\n",
    "Set the source and target parameters as column names to be used for the edgelist. The weight column will be named after the edge attribute name if applicable. You can write the edge list to a csv file with the to_csv() function. Specify the separator to be used in the sep paramter."
   ]
  },
  {
   "cell_type": "code",
   "execution_count": 14,
   "metadata": {},
   "outputs": [],
   "source": [
    "# G is a networkx graph object\n",
    "\n",
    "df = nx.to_pandas_edgelist(G, source=\"V1\", target=\"V2\")\n",
    "\n",
    "#write as csv file\n",
    "path =\"file location + file name.csv\"\n",
    "df.to_csv(path, sep=\"\\t\")"
   ]
  },
  {
   "cell_type": "markdown",
   "metadata": {},
   "source": [
    "### Write adjacency matrix with column and row names\n",
    "\n",
    "Save graph as adjacency matrix. Replace \"weight\" with the edge attribute to be used, if the attribute does not exist a value of 1 is set for an existing edge. The nodes in the resulting adjacency matrix are ordered in the same way as in nodenames. "
   ]
  },
  {
   "cell_type": "code",
   "execution_count": null,
   "metadata": {},
   "outputs": [],
   "source": [
    "# G is a networkx graph object\n",
    "\n",
    "nodenames = list(G.nodes())\n",
    "df = nx.to_pandas_adjacency(G, weight=\"weight\", nodelist=nodenames)\n",
    "\n",
    "\n",
    "\n",
    "#write as csv file\n",
    "path =\"file location + file name.csv\"\n",
    "df.to_csv(path, sep=\"\\t\")"
   ]
  },
  {
   "cell_type": "markdown",
   "metadata": {},
   "source": [
    "### Write adjacency matrix without column and row names\n"
   ]
  },
  {
   "cell_type": "code",
   "execution_count": null,
   "metadata": {},
   "outputs": [],
   "source": [
    "# G is a networkx graph object\n",
    "\n",
    "nodenames = list(G.nodes())\n",
    "df = nx.to_pandas_adjacency(G, weight=\"weight\", nodelist=nodenames)\n",
    "\n",
    "\n",
    "\n",
    "#write as csv file\n",
    "path =\"file location + file name.csv\"\n",
    "df.to_csv(path, sep=\"\\t\", header=False, index=False)"
   ]
  },
  {
   "cell_type": "markdown",
   "metadata": {},
   "source": [
    "### Pickle as Python Object\n",
    "\n",
    "Every Python object can pickled which allows it to be read back into a Python object"
   ]
  },
  {
   "cell_type": "code",
   "execution_count": 19,
   "metadata": {},
   "outputs": [],
   "source": [
    "import pickle\n",
    "\n",
    "#to write as a pickle\n",
    "path =\"file location + file name.pckl\"\n",
    "with open(location + path, \"wb\") as f:\n",
    "        pickle.dump(G, f, protocol=4)"
   ]
  },
  {
   "cell_type": "code",
   "execution_count": null,
   "metadata": {},
   "outputs": [],
   "source": [
    "#to read as a pickle\n",
    "\n",
    "import pickle\n",
    "\n",
    "path =\"file location + file name.pckl\"\n",
    "with open(path, \"rb\") as f:\n",
    "      G = pickle.load(f)"
   ]
  },
  {
   "cell_type": "markdown",
   "metadata": {},
   "source": [
    "### Write as graphml"
   ]
  },
  {
   "cell_type": "code",
   "execution_count": null,
   "metadata": {},
   "outputs": [],
   "source": [
    "path =\"file location + file name.graphml\"\n",
    "\n",
    "nx.write_graphml_lxml(G, path)  \n",
    "\n"
   ]
  }
 ],
 "metadata": {
  "kernelspec": {
   "display_name": "Python 3",
   "language": "python",
   "name": "python3"
  },
  "language_info": {
   "codemirror_mode": {
    "name": "ipython",
    "version": 3
   },
   "file_extension": ".py",
   "mimetype": "text/x-python",
   "name": "python",
   "nbconvert_exporter": "python",
   "pygments_lexer": "ipython3",
   "version": "3.6.9"
  }
 },
 "nbformat": 4,
 "nbformat_minor": 2
}
