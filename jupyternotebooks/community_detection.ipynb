{
 "cells": [
  {
   "cell_type": "code",
   "execution_count": 1,
   "metadata": {},
   "outputs": [
    {
     "name": "stderr",
     "output_type": "stream",
     "text": [
      "/usr/lib/python3.6/importlib/_bootstrap.py:219: UserWarning: To obtain optimal results install the Cython 'munkres' module at  https://github.com/jfrelinger/cython-munkres-wrapper\n",
      "  return f(*args, **kwds)\n"
     ]
    }
   ],
   "source": [
    "import graphAlgorithms as ga"
   ]
  },
  {
   "cell_type": "markdown",
   "metadata": {},
   "source": [
    "Examples on how to use different community detection algorithms "
   ]
  },
  {
   "cell_type": "markdown",
   "metadata": {},
   "source": [
    "# Load Network"
   ]
  },
  {
   "cell_type": "code",
   "execution_count": 2,
   "metadata": {},
   "outputs": [],
   "source": [
    "#location where the raw data files are stored\n",
    "# TODO: change to package location \n",
    "graph_location = \"/mnt/data/apavel/graphalgo/testset/\""
   ]
  },
  {
   "cell_type": "code",
   "execution_count": 3,
   "metadata": {},
   "outputs": [],
   "source": [
    "#location where output should be saved\n",
    "location = \"/mnt/data/apavel/graphalgo/testoutput/\""
   ]
  },
  {
   "cell_type": "code",
   "execution_count": 4,
   "metadata": {},
   "outputs": [],
   "source": [
    "import glob\n",
    "import pandas as pd\n",
    "import networkx as nx\n",
    "import numpy as np\n",
    "from collections import Counter\n",
    "import matplotlib.pyplot as plt"
   ]
  },
  {
   "cell_type": "code",
   "execution_count": 5,
   "metadata": {},
   "outputs": [
    {
     "name": "stdout",
     "output_type": "stream",
     "text": [
      "load networks\n",
      "loaded lestaurtinib\n"
     ]
    }
   ],
   "source": [
    "\n",
    "labels = []\n",
    "networks_graphs = []\n",
    "cnt = 0\n",
    "print(\"load networks\")\n",
    "#gets all files located in the specified folder that end on .edgelist\n",
    "for path in glob.glob(graph_location +\"*.edgelist\"):\n",
    "    if cnt < 1:\n",
    "        #you can specify that only part of the file name should be used as network name for later identification\n",
    "        name =  path.split(\"/\")[-1].replace(\".rds.edgelist\", \"\")\n",
    "\n",
    "\n",
    "        #read the edgelist file as a dataframe\n",
    "        fh = pd.read_csv(path, sep=\"\\t\")\n",
    "        #convert it into a NetworkX graph G and specify the column names of the node pairs\n",
    "        G=nx.from_pandas_edgelist(fh, \"V1\", \"V2\")\n",
    "\n",
    "        #if you have an unweighted network assign all edges the same edge weight - here a value of 1 is assigned\n",
    "        for u, v, d in G.edges(data=True):\n",
    "            d['weight'] = 1\n",
    "\n",
    "\n",
    "        #save the graph objects to a list (only suitable if small networks are processed)\n",
    "        #this is the main objects used for the examples below, which contains all networks\n",
    "        networks_graphs.append(G)\n",
    "        labels.append(name)\n",
    "\n",
    "\n",
    "\n",
    "\n",
    "        print(\"loaded\", name)\n",
    "    cnt = cnt + 1"
   ]
  },
  {
   "cell_type": "code",
   "execution_count": 6,
   "metadata": {},
   "outputs": [],
   "source": [
    "nodes = []\n",
    "for net in networks_graphs:\n",
    "    for node in net.nodes():\n",
    "        if node not in nodes:\n",
    "            nodes.append(node)"
   ]
  },
  {
   "cell_type": "markdown",
   "metadata": {},
   "source": [
    "## Some unweighted community detection algorithms\n",
    "\n",
    "All communiy detection algorithms return a dict, where keys are node IDs and values are list of communities that node belongs to. In case of overlapping communities this may be more than one community."
   ]
  },
  {
   "cell_type": "code",
   "execution_count": 7,
   "metadata": {},
   "outputs": [],
   "source": [
    "asy = ga.communities.async_fluid(networks_graphs[0], k=10, return_object=False)"
   ]
  },
  {
   "cell_type": "code",
   "execution_count": 8,
   "metadata": {},
   "outputs": [],
   "source": [
    "label = ga.communities.label_propagation(networks_graphs[0], return_object=False)"
   ]
  },
  {
   "cell_type": "code",
   "execution_count": 9,
   "metadata": {},
   "outputs": [],
   "source": [
    "info = ga.communities.infomap(networks_graphs[0], return_object=False)"
   ]
  },
  {
   "cell_type": "code",
   "execution_count": 10,
   "metadata": {},
   "outputs": [],
   "source": [
    "walktrap = ga.communities.walktrap(networks_graphs[0], return_object=False)"
   ]
  },
  {
   "cell_type": "markdown",
   "metadata": {},
   "source": [
    "## Some weighted community detection algorithms"
   ]
  },
  {
   "cell_type": "code",
   "execution_count": 11,
   "metadata": {},
   "outputs": [],
   "source": []
  },
  {
   "cell_type": "code",
   "execution_count": 12,
   "metadata": {
    "scrolled": true
   },
   "outputs": [],
   "source": [
    "mod =  ga.communities.greedy_modularity(networks_graphs[0], weights=\"weight\", return_object=False)"
   ]
  },
  {
   "cell_type": "code",
   "execution_count": 13,
   "metadata": {},
   "outputs": [],
   "source": [
    "leiden = ga.communities.leiden(networks_graphs[0], weights=\"weight\", return_object=False)"
   ]
  },
  {
   "cell_type": "code",
   "execution_count": 19,
   "metadata": {
    "scrolled": true
   },
   "outputs": [],
   "source": [
    "louvain = ga.communities.louvain(networks_graphs[0], weights=\"weight\", return_object=False)"
   ]
  },
  {
   "cell_type": "markdown",
   "metadata": {},
   "source": [
    "## Ensembl community detection\n",
    "\n",
    "The ensembl algorithm is based on an adapted implementation of: https://arxiv.org/pdf/1902.04014.pdf\n",
    "Here we want to create an ensembl out of labelpropagation, infomap and the louvain algorithm.\n",
    "\n",
    "TODO: put proper citation\n",
    "TODO: maybe for case study take x best performing algorithms based on the below metrics (or others)"
   ]
  },
  {
   "cell_type": "code",
   "execution_count": 15,
   "metadata": {},
   "outputs": [],
   "source": [
    "community_list=[label, info, louvain]"
   ]
  },
  {
   "cell_type": "markdown",
   "metadata": {},
   "source": [
    "Only algorithms that are not requireing connected graphs can be provided as selected algorithms"
   ]
  },
  {
   "cell_type": "code",
   "execution_count": 16,
   "metadata": {},
   "outputs": [],
   "source": [
    "algorithms = [ga.communities.label_propagation,ga.communities.infomap, ga.communities.louvain ]\n",
    "parameters = [{\"return_object\": False}, {\"return_object\": False},{\"weights\":\"weight\",\"return_object\": False}]"
   ]
  },
  {
   "cell_type": "code",
   "execution_count": 18,
   "metadata": {
    "scrolled": true
   },
   "outputs": [
    {
     "name": "stdout",
     "output_type": "stream",
     "text": [
      "start fast consensus\n",
      "no initial graph provided create from communities\n",
      "create consensus graph object\n",
      "transforming initial consensus graph in its communities based on selected treshold\n",
      "initial removed edges 445828\n",
      "giving initial graph free\n",
      "start convergence on  reduced graph\n",
      "estimating communities  label_propagation\n",
      "estimating communities  infomap\n",
      "estimating communities  louvain\n",
      "create consensus graph object\n",
      "estimating communities  label_propagation\n",
      "estimating communities  infomap\n",
      "estimating communities  louvain\n",
      "create consensus graph object\n"
     ]
    }
   ],
   "source": [
    "consensuscommunities, cons1, consgraph  = ga.communities.fast_consensus(networks_graphs[0], communities = community_list, algorithms=algorithms, parameters=parameters, thresh=0.5, max_iter=10)"
   ]
  },
  {
   "cell_type": "code",
   "execution_count": null,
   "metadata": {},
   "outputs": [],
   "source": []
  },
  {
   "cell_type": "code",
   "execution_count": 46,
   "metadata": {},
   "outputs": [],
   "source": []
  },
  {
   "cell_type": "code",
   "execution_count": 44,
   "metadata": {},
   "outputs": [],
   "source": []
  },
  {
   "cell_type": "markdown",
   "metadata": {},
   "source": [
    "## Overlapping Communities"
   ]
  },
  {
   "cell_type": "code",
   "execution_count": 20,
   "metadata": {},
   "outputs": [],
   "source": [
    "angel = ga.communities.angel(networks_graphs[0], return_object=False)"
   ]
  },
  {
   "cell_type": "code",
   "execution_count": null,
   "metadata": {},
   "outputs": [],
   "source": []
  },
  {
   "cell_type": "markdown",
   "metadata": {},
   "source": [
    "## Some community evaluation metrics"
   ]
  },
  {
   "cell_type": "code",
   "execution_count": 31,
   "metadata": {},
   "outputs": [],
   "source": [
    "community_list=[asy, label, info, walktrap,  mod, leiden, louvain, consensuscommunities, angel]\n",
    "algo_labels=[\"async_fluids\",\"labelpropagation\", \"infomap\", \"walktrap\",  \"modularity\", \"leiden\", \"louvain\", \"consensuscommunities\", \"angel\"]"
   ]
  },
  {
   "cell_type": "markdown",
   "metadata": {},
   "source": [
    "How many communities are detected by the algorithms?"
   ]
  },
  {
   "cell_type": "code",
   "execution_count": 32,
   "metadata": {},
   "outputs": [
    {
     "name": "stdout",
     "output_type": "stream",
     "text": [
      "algo  async_fluids detects  10 communities\n",
      "algo  labelpropagation detects  32 communities\n",
      "algo  infomap detects  41 communities\n",
      "algo  walktrap detects  24 communities\n",
      "algo  modularity detects  9 communities\n",
      "algo  leiden detects  12 communities\n",
      "algo  louvain detects  12 communities\n",
      "algo  consensuscommunities detects  28 communities\n",
      "algo  angel detects  14 communities\n"
     ]
    }
   ],
   "source": [
    "for i in range(len(community_list)):\n",
    "    print(\"algo \", algo_labels[i], \"detects \", ga.communities.get_number_of_communities(community_list[i]), \"communities\")"
   ]
  },
  {
   "cell_type": "markdown",
   "metadata": {},
   "source": [
    "What is the community size distribution?"
   ]
  },
  {
   "cell_type": "code",
   "execution_count": 33,
   "metadata": {},
   "outputs": [
    {
     "name": "stdout",
     "output_type": "stream",
     "text": [
      "algorithm  async_fluids has a community size distribution of:\n",
      "{'mean': 97.7, 'median': 99.5, 'std': 44.828190535272185, 'kurt': -0.8650795697808324, 'skewness': -0.18523195442603282}\n",
      "algorithm  labelpropagation has a community size distribution of:\n",
      "{'mean': 30.53125, 'median': 13.5, 'std': 33.69118232014175, 'kurt': -0.04357752886502286, 'skewness': 1.1521664522131856}\n",
      "algorithm  infomap has a community size distribution of:\n",
      "{'mean': 23.829268292682926, 'median': 14, 'std': 25.52636131435931, 'kurt': 1.6974896786197577, 'skewness': 1.628958776965327}\n",
      "algorithm  walktrap has a community size distribution of:\n",
      "{'mean': 40.708333333333336, 'median': 16.5, 'std': 43.055554776375246, 'kurt': -0.7912855475008698, 'skewness': 0.8215536023375906}\n",
      "algorithm  modularity has a community size distribution of:\n",
      "{'mean': 108.55555555555556, 'median': 115, 'std': 68.92951311142258, 'kurt': 0.026649701566436423, 'skewness': 0.5380218321499421}\n",
      "algorithm  leiden has a community size distribution of:\n",
      "{'mean': 81.41666666666667, 'median': 97.5, 'std': 35.4412659668547, 'kurt': -0.6377890140339688, 'skewness': -0.7170290701008919}\n",
      "algorithm  louvain has a community size distribution of:\n",
      "{'mean': 81.41666666666667, 'median': 93.0, 'std': 36.44287767634896, 'kurt': -0.788212137392049, 'skewness': -0.32470221896318263}\n",
      "algorithm  consensuscommunities has a community size distribution of:\n",
      "{'mean': 34.892857142857146, 'median': 16.5, 'std': 35.003004406198016, 'kurt': -0.5648661538281425, 'skewness': 0.9168117691480232}\n",
      "algorithm  angel has a community size distribution of:\n",
      "{'mean': 68.35714285714286, 'median': 25.5, 'std': 100.52218059318446, 'kurt': 4.125734771181716, 'skewness': 2.136372616076597}\n"
     ]
    }
   ],
   "source": [
    "for i in range(len(community_list)):\n",
    "    print(\"algorithm \", algo_labels[i], \"has a community size distribution of:\")\n",
    "    print(ga.communities.get_number_of_nodes_community(community_list[i], in_detail=False))"
   ]
  },
  {
   "cell_type": "markdown",
   "metadata": {},
   "source": [
    "What is the average internal degree?  The scores for the individual communities are returned in the sc object"
   ]
  },
  {
   "cell_type": "code",
   "execution_count": 34,
   "metadata": {},
   "outputs": [
    {
     "name": "stdout",
     "output_type": "stream",
     "text": [
      "algo  async_fluids has a community internal degree distribution of:\n",
      "{'mean': 29.551507857391336, 'median': 23.80774647887324, 'std': 17.498190334556238, 'kurt': 0.306004490490714, 'skewness': 0.9878363790432299}\n",
      "algo  labelpropagation has a community internal degree distribution of:\n",
      "{'mean': 15.845698250911369, 'median': 8.915441176470587, 'std': 17.4890472970971, 'kurt': 2.747033880588897, 'skewness': 1.7722517816901706}\n",
      "algo  infomap has a community internal degree distribution of:\n",
      "{'mean': 15.20430782181294, 'median': 9.142857142857142, 'std': 17.093006638253772, 'kurt': 4.267686483419309, 'skewness': 2.087815928721599}\n",
      "algo  walktrap has a community internal degree distribution of:\n",
      "{'mean': 17.62062384158554, 'median': 12.257918552036198, 'std': 17.108046614487332, 'kurt': 0.8599734411515914, 'skewness': 1.2126369028092066}\n",
      "algo  modularity has a community internal degree distribution of:\n",
      "{'mean': 30.822651862390188, 'median': 25.222672064777328, 'std': 16.525690810108216, 'kurt': -0.3442218283752547, 'skewness': 0.8599863207358437}\n",
      "algo  leiden has a community internal degree distribution of:\n",
      "{'mean': 29.242055603292535, 'median': 23.897748790237745, 'std': 19.119947031840077, 'kurt': 1.8611592934958354, 'skewness': 1.6009846000769832}\n",
      "algo  louvain has a community internal degree distribution of:\n",
      "{'mean': 29.03641861271343, 'median': 25.651907887417956, 'std': 17.348071611970937, 'kurt': 1.7477621590178343, 'skewness': 1.4727533421565415}\n",
      "algo  consensuscommunities has a community internal degree distribution of:\n",
      "{'mean': 17.45168550234533, 'median': 10.55, 'std': 18.060697522537573, 'kurt': 2.1988742149513305, 'skewness': 1.6470808693695764}\n",
      "algo  angel has a community internal degree distribution of:\n",
      "{'mean': 15.467338237779249, 'median': 11.923076923076923, 'std': 14.524771640947833, 'kurt': -0.7635882523158197, 'skewness': 0.7230174750556938}\n"
     ]
    }
   ],
   "source": [
    "for i in range(len(community_list)):\n",
    "    print(\"algo \", algo_labels[i], \"has a community internal degree distribution of:\")\n",
    "    sc, dist = ga.communities.average_internal_degree(community_list[i], networks_graphs[0])\n",
    "    print(dist)"
   ]
  },
  {
   "cell_type": "markdown",
   "metadata": {},
   "source": [
    "What is the internal edge density?  The scores for the individual communities are returned in the sc object"
   ]
  },
  {
   "cell_type": "code",
   "execution_count": 35,
   "metadata": {},
   "outputs": [
    {
     "name": "stdout",
     "output_type": "stream",
     "text": [
      "algo  async_fluids has a community internal edge density distribution of:\n",
      "{'mean': 0.08018445814403682, 'median': 0.07679640895224721, 'std': 0.030103565217978155, 'kurt': -0.3835523975230428, 'skewness': 0.47553611834063375}\n",
      "algo  labelpropagation has a community internal edge density distribution of:\n",
      "{'mean': 0.17073892659168374, 'median': 0.17435576655760143, 'std': 0.05689929702520839, 'kurt': -1.175828866104495, 'skewness': -0.024957808096507245}\n",
      "algo  infomap has a community internal edge density distribution of:\n",
      "{'mean': 0.1807036190368201, 'median': 0.17582417582417584, 'std': 0.04254862906856415, 'kurt': -0.685265433337134, 'skewness': 0.12949839982075184}\n",
      "algo  walktrap has a community internal edge density distribution of:\n",
      "{'mean': 0.16503485811384136, 'median': 0.159375, 'std': 0.0691588372873254, 'kurt': -1.473767664895824, 'skewness': -0.02456888066235225}\n",
      "algo  modularity has a community internal edge density distribution of:\n",
      "{'mean': 0.10082204574967965, 'median': 0.09433439960629922, 'std': 0.06468594919660604, 'kurt': 0.7656555956780995, 'skewness': 1.0577344074637116}\n",
      "algo  leiden has a community internal edge density distribution of:\n",
      "{'mean': 0.1007499691440742, 'median': 0.08750615211424462, 'std': 0.05243001879032096, 'kurt': 0.31637154622559516, 'skewness': 1.2743635565164961}\n",
      "algo  louvain has a community internal edge density distribution of:\n",
      "{'mean': 0.10129727512122069, 'median': 0.08272019724373954, 'std': 0.05546704922412041, 'kurt': 1.6542947690047392, 'skewness': 1.6126122917248413}\n",
      "algo  consensuscommunities has a community internal edge density distribution of:\n",
      "{'mean': 0.15858661709752855, 'median': 0.16666666666666666, 'std': 0.05839808556228627, 'kurt': -1.1348080426852087, 'skewness': 0.007493035583124792}\n",
      "algo  angel has a community internal edge density distribution of:\n",
      "{'mean': 0.14741483814756534, 'median': 0.14009835893120134, 'std': 0.08668406739758217, 'kurt': -1.6233469401681075, 'skewness': 0.015280567074636162}\n"
     ]
    }
   ],
   "source": [
    "for i in range(len(community_list)):\n",
    "    print(\"algo \", algo_labels[i], \"has a community internal edge density distribution of:\")\n",
    "    sc, dist = ga.communities.internal_edge_density(community_list[i], networks_graphs[0])\n",
    "    print(dist)"
   ]
  },
  {
   "cell_type": "markdown",
   "metadata": {},
   "source": [
    "What is the partitions modularity?  The scores for the individual communities are returned in the sc object"
   ]
  },
  {
   "cell_type": "code",
   "execution_count": 36,
   "metadata": {},
   "outputs": [
    {
     "name": "stdout",
     "output_type": "stream",
     "text": [
      "algorithm  async_fluids has a modularity of  0.8026040120407566\n",
      "algorithm  labelpropagation has a modularity of  0.8106671295350322\n",
      "algorithm  infomap has a modularity of  0.79679892315697\n",
      "algorithm  walktrap has a modularity of  0.8131041399053339\n",
      "algorithm  modularity has a modularity of  0.7969897046897019\n",
      "algorithm  leiden has a modularity of  0.8220075404290097\n",
      "algorithm  louvain has a modularity of  0.820788370432317\n",
      "algorithm  consensuscommunities has a modularity of  0.8127982035764162\n",
      "algorithm  angel has a modularity of  0.5683292114736865\n"
     ]
    }
   ],
   "source": [
    "for i in range(len(community_list)):\n",
    "    print(\"algorithm \", algo_labels[i], \"has a modularity of \", ga.communities.community_modularity(community_list[i], networks_graphs[0]))"
   ]
  },
  {
   "cell_type": "markdown",
   "metadata": {},
   "source": [
    "What is the fraction of weak members within a community?  The scores for the individual communities are returned in the sc object"
   ]
  },
  {
   "cell_type": "code",
   "execution_count": 37,
   "metadata": {},
   "outputs": [
    {
     "name": "stdout",
     "output_type": "stream",
     "text": [
      "algo  async_fluids has a community fraction of weak members distribution of:\n",
      "{'mean': 0.03497028600809179, 'median': 0.014084507042253521, 'std': 0.047773429006116405, 'kurt': -0.3361875849740361, 'skewness': 1.0645319349956877}\n",
      "algo  labelpropagation has a community fraction of weak members distribution of:\n",
      "{'mean': 0.08542527801274852, 'median': 0.0, 'std': 0.18337730746705894, 'kurt': 5.110104135135716, 'skewness': 2.3739395322246137}\n",
      "algo  infomap has a community fraction of weak members distribution of:\n",
      "{'mean': 0.14628442714921544, 'median': 0.0, 'std': 0.25151576268368314, 'kurt': 2.7501898721776934, 'skewness': 1.8851415690242208}\n",
      "algo  walktrap has a community fraction of weak members distribution of:\n",
      "{'mean': 0.03709127377333845, 'median': 0.0, 'std': 0.08385645428568365, 'kurt': 6.030799965048608, 'skewness': 2.6807336970331788}\n",
      "algo  modularity has a community fraction of weak members distribution of:\n",
      "{'mean': 0.01234805922931076, 'median': 0.007246376811594203, 'std': 0.016440137196184937, 'kurt': 0.1276251231047132, 'skewness': 1.1540219962403018}\n",
      "algo  leiden has a community fraction of weak members distribution of:\n",
      "{'mean': 0.010858189429618002, 'median': 0.0, 'std': 0.022528810953461157, 'kurt': 2.4567122762450717, 'skewness': 1.9315114646411302}\n",
      "algo  louvain has a community fraction of weak members distribution of:\n",
      "{'mean': 0.003485347927395421, 'median': 0.0, 'std': 0.00549397657906803, 'kurt': -0.17048944552354994, 'skewness': 1.1225860120458442}\n",
      "algo  consensuscommunities has a community fraction of weak members distribution of:\n",
      "{'mean': 0.08166835863133132, 'median': 0.0, 'std': 0.15554344223814412, 'kurt': 1.677425236431234, 'skewness': 1.7604930402199515}\n",
      "algo  angel has a community fraction of weak members distribution of:\n",
      "{'mean': 0.16459947089658308, 'median': 0.11011904761904762, 'std': 0.26316330416379313, 'kurt': 5.527173831069513, 'skewness': 2.5121753213850124}\n"
     ]
    }
   ],
   "source": [
    "for i in range(len(community_list)):\n",
    "    print(\"algo \", algo_labels[i], \"has a community fraction of weak members distribution of:\")\n",
    "    sc, dist = ga.communities.fraction_of_weak_members(community_list[i], networks_graphs[0])\n",
    "    print(dist)"
   ]
  },
  {
   "cell_type": "markdown",
   "metadata": {},
   "source": [
    "What is the cut ratio?  The scores for the individual communities are returned in the sc object"
   ]
  },
  {
   "cell_type": "code",
   "execution_count": 38,
   "metadata": {},
   "outputs": [
    {
     "name": "stdout",
     "output_type": "stream",
     "text": [
      "algo  async_fluids has a community cut ratio distribution distribution of:\n",
      "{'mean': 0.09186704098575485, 'median': 0.07652027220766985, 'std': 0.0753473476342785, 'kurt': 0.11872445049245917, 'skewness': 1.1221134783452948}\n",
      "algo  labelpropagation has a community cut ratio distribution distribution of:\n",
      "{'mean': 0.2502691946252538, 'median': 0.2150960874965954, 'std': 0.1771679949281321, 'kurt': -1.2196384979015908, 'skewness': 0.3349959587386101}\n",
      "algo  infomap has a community cut ratio distribution distribution of:\n",
      "{'mean': 0.2948050407647503, 'median': 0.28629534323898065, 'std': 0.20306551585655716, 'kurt': 0.753198620578793, 'skewness': 0.8949435964656937}\n",
      "algo  walktrap has a community cut ratio distribution distribution of:\n",
      "{'mean': 0.19270209145093384, 'median': 0.13381889191562857, 'std': 0.15485942735687633, 'kurt': -0.7259038318065767, 'skewness': 0.7907887172193473}\n",
      "algo  modularity has a community cut ratio distribution distribution of:\n",
      "{'mean': 0.0637376481683399, 'median': 0.06327401315604689, 'std': 0.04446408688542325, 'kurt': 0.6476836418695076, 'skewness': 1.028783624673534}\n",
      "algo  leiden has a community cut ratio distribution distribution of:\n",
      "{'mean': 0.08829729151817803, 'median': 0.05811908499324949, 'std': 0.0809062961479107, 'kurt': 0.9403170623824106, 'skewness': 1.3809864495432582}\n",
      "algo  louvain has a community cut ratio distribution distribution of:\n",
      "{'mean': 0.08330650704554832, 'median': 0.061111647544296106, 'std': 0.0701640953764353, 'kurt': -0.1322396215036168, 'skewness': 1.0673302406961023}\n",
      "algo  consensuscommunities has a community cut ratio distribution distribution of:\n",
      "{'mean': 0.22377339078565592, 'median': 0.18015537546431198, 'std': 0.16940354099600807, 'kurt': -0.7506560148461974, 'skewness': 0.6128560286100825}\n",
      "algo  angel has a community cut ratio distribution distribution of:\n",
      "{'mean': 0.3286653091247774, 'median': 0.29080362766356277, 'std': 0.15222175001767355, 'kurt': 0.035332741116815836, 'skewness': 0.5760033811200918}\n"
     ]
    }
   ],
   "source": [
    "for i in range(len(community_list)):\n",
    "    print(\"algo \", algo_labels[i], \"has a community cut ratio distribution distribution of:\")\n",
    "    sc, dist = ga.communities.cut_ratio(community_list[i], networks_graphs[0])\n",
    "    print(dist)"
   ]
  },
  {
   "cell_type": "markdown",
   "metadata": {},
   "source": [
    "What is the community density w.r.t. the whole graph density?  The scores for the individual communities are returned in the sc object"
   ]
  },
  {
   "cell_type": "code",
   "execution_count": 39,
   "metadata": {},
   "outputs": [
    {
     "name": "stdout",
     "output_type": "stream",
     "text": [
      "algo  async_fluids  has a community density w.r.t. the graph density distribution of:\n",
      "{'mean': 8.877799759902768, 'median': 8.502684394686007, 'std': 3.332982852915356, 'kurt': -0.3835523975230428, 'skewness': 0.4755361183406333}\n",
      "algo  labelpropagation  has a community density w.r.t. the graph density distribution of:\n",
      "{'mean': 18.90373816305988, 'median': 19.304184605228905, 'std': 6.299731608357796, 'kurt': -1.175828866104495, 'skewness': -0.024957808096506037}\n",
      "algo  infomap  has a community density w.r.t. the graph density distribution of:\n",
      "{'mean': 20.00700114250193, 'median': 19.466762787285283, 'std': 4.710865642448475, 'kurt': -0.685265433337134, 'skewness': 0.12949839982075229}\n",
      "algo  walktrap  has a community density w.r.t. the graph density distribution of:\n",
      "{'mean': 18.27219959642028, 'median': 17.64555587808418, 'std': 7.657073743164437, 'kurt': -1.4737676648958247, 'skewness': -0.024568880662352167}\n",
      "algo  modularity  has a community density w.r.t. the graph density distribution of:\n",
      "{'mean': 11.162735949921455, 'median': 10.44444184770808, 'std': 7.161848038121578, 'kurt': 0.7656555956780986, 'skewness': 1.0577344074637114}\n",
      "algo  leiden  has a community density w.r.t. the graph density distribution of:\n",
      "{'mean': 11.1547558290009, 'median': 9.688437313305334, 'std': 5.804905576493252, 'kurt': 0.3163715462255965, 'skewness': 1.2743635565164968}\n",
      "algo  louvain  has a community density w.r.t. the graph density distribution of:\n",
      "{'mean': 11.215352021641827, 'median': 9.1585497268113, 'std': 6.1411571229908235, 'kurt': 1.6542947690047418, 'skewness': 1.6126122917248422}\n",
      "algo  consensuscommunities  has a community density w.r.t. the graph density distribution of:\n",
      "{'mean': 17.55826832006764, 'median': 18.452868892114175, 'std': 6.465673298588006, 'kurt': -1.134808042685211, 'skewness': 0.007493035583124711}\n",
      "algo  angel  has a community density w.r.t. the graph density distribution of:\n",
      "{'mean': 16.321360086535528, 'median': 15.511299896146868, 'std': 9.597418384336635, 'kurt': -1.6233469401681078, 'skewness': 0.015280567074636164}\n"
     ]
    }
   ],
   "source": [
    "for i in range(len(community_list)):\n",
    "    print(\"algo \", algo_labels[i], \" has a community density w.r.t. the graph density distribution of:\")\n",
    "    sc, dist = ga.communities.community_density_to_graph(community_list[i], networks_graphs[0])\n",
    "    print(dist)"
   ]
  },
  {
   "cell_type": "markdown",
   "metadata": {},
   "source": [
    "What is the hub dominance?  The scores for the individual communities are returned in the sc object"
   ]
  },
  {
   "cell_type": "code",
   "execution_count": 40,
   "metadata": {},
   "outputs": [
    {
     "name": "stdout",
     "output_type": "stream",
     "text": [
      "algo  async_fluids  has a community hub dominance distribution of:\n",
      "{'mean': 0.6532715147776632, 'median': 0.6515151515151515, 'std': 0.15522276906914229, 'kurt': 0.36577659716164757, 'skewness': -0.3970110190906123}\n",
      "algo  labelpropagation  has a community hub dominance distribution of:\n",
      "{'mean': 0.9232125220446711, 'median': 0.9676113360323887, 'std': 0.1010448004611136, 'kurt': 2.8209385581724584, 'skewness': -1.5830126491807264}\n",
      "algo  infomap  has a community hub dominance distribution of:\n",
      "{'mean': 0.9505117248488609, 'median': 1.0, 'std': 0.06794005137722671, 'kurt': -0.36300198103832493, 'skewness': -1.0132369542704824}\n",
      "algo  walktrap  has a community hub dominance distribution of:\n",
      "{'mean': 0.8776202386553007, 'median': 0.90625, 'std': 0.14006267660640123, 'kurt': -0.3384657303462677, 'skewness': -0.8842362533050036}\n",
      "algo  modularity  has a community hub dominance distribution of:\n",
      "{'mean': 0.6670466157223834, 'median': 0.7142857142857143, 'std': 0.23588587568795458, 'kurt': -0.4292609703992101, 'skewness': -0.6675818166395484}\n",
      "algo  leiden  has a community hub dominance distribution of:\n",
      "{'mean': 0.7111394862100157, 'median': 0.6813893653516294, 'std': 0.16956256218281482, 'kurt': -0.7636125030334848, 'skewness': 0.5386468067305521}\n",
      "algo  louvain  has a community hub dominance distribution of:\n",
      "{'mean': 0.7037218726124909, 'median': 0.6827192982456141, 'std': 0.16971599557945027, 'kurt': -0.9673744899806733, 'skewness': 0.4566691117801302}\n",
      "algo  consensuscommunities  has a community hub dominance distribution of:\n",
      "{'mean': 0.8662740265102935, 'median': 0.9296296296296296, 'std': 0.16824418247012005, 'kurt': 1.8523406922119898, 'skewness': -1.4923481544082688}\n",
      "algo  angel  has a community hub dominance distribution of:\n",
      "{'mean': 0.7856394053477258, 'median': 0.8711340206185567, 'std': 0.250083518372509, 'kurt': -0.7275330743588921, 'skewness': -0.6781498534027833}\n"
     ]
    }
   ],
   "source": [
    "for i in range(len(community_list)):\n",
    "    print(\"algo \", algo_labels[i], \" has a community hub dominance distribution of:\")\n",
    "    sc, dist = ga.communities.hub_dominace(community_list[i], networks_graphs[0])\n",
    "    print(dist)"
   ]
  },
  {
   "cell_type": "markdown",
   "metadata": {},
   "source": [
    "There are many more evaluation metrics implemented, which you find more information about in the documentation.\n",
    "\n",
    "You can for example select the community detection algorithm that performs on average the best on a multitude of selected evaluation metrics or select metrics that are focused on the commmunity types that are needed for your experiments."
   ]
  },
  {
   "cell_type": "code",
   "execution_count": null,
   "metadata": {},
   "outputs": [],
   "source": []
  },
  {
   "cell_type": "code",
   "execution_count": null,
   "metadata": {},
   "outputs": [],
   "source": []
  }
 ],
 "metadata": {
  "kernelspec": {
   "display_name": "Python 3",
   "language": "python",
   "name": "python3"
  },
  "language_info": {
   "codemirror_mode": {
    "name": "ipython",
    "version": 3
   },
   "file_extension": ".py",
   "mimetype": "text/x-python",
   "name": "python",
   "nbconvert_exporter": "python",
   "pygments_lexer": "ipython3",
   "version": "3.6.9"
  }
 },
 "nbformat": 4,
 "nbformat_minor": 2
}
